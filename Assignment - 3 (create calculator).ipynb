{
 "cells": [
  {
   "cell_type": "code",
   "execution_count": 13,
   "id": "92e32a70",
   "metadata": {},
   "outputs": [
    {
     "name": "stdout",
     "output_type": "stream",
     "text": [
      "Hello \n",
      "I'm vicky \n",
      "welcome to my Bihar \n",
      "\n"
     ]
    }
   ],
   "source": [
    "with open('file.txt','w+') as f:\n",
    "    f.write(\"Hello \\n\")\n",
    "    f.write(\"I'm vicky \\n\")\n",
    "    f.write(\"welcome to my Bihar \\n\")\n",
    "    f.seek(0)\n",
    "    lines = f.read()\n",
    "    print(lines)"
   ]
  },
  {
   "cell_type": "code",
   "execution_count": 17,
   "id": "96464ad1",
   "metadata": {},
   "outputs": [],
   "source": [
    "with open(\"file.txt\",'r+') as f:\n",
    "    f.write(\"welcome Vicky Singh\")"
   ]
  },
  {
   "cell_type": "code",
   "execution_count": 18,
   "id": "3ec74481",
   "metadata": {},
   "outputs": [
    {
     "name": "stdout",
     "output_type": "stream",
     "text": [
      "['welcome Vicky Singh\\n', 'welcome to my Bihar \\n', 'I am going to Bihar']\n"
     ]
    }
   ],
   "source": [
    "with open('file.txt','a+')as f:\n",
    "    f.write(\"I am going to Bihar\")\n",
    "    f.seek(0)\n",
    "    lines = f.readlines()\n",
    "    print(lines)"
   ]
  },
  {
   "cell_type": "code",
   "execution_count": 19,
   "id": "3e3450d5",
   "metadata": {},
   "outputs": [],
   "source": [
    "def sum():\n",
    "    a=int(input(\"Enter the num1-\"))\n",
    "    b=int(input(\"Enter the num1-\"))\n",
    "    print(\"sum\",a+b)\n",
    "    with open('calculator.txt',\"a\")as f:\n",
    "        f.write(f\"\\n sum of {a} and {b} is {a+b}\\n\")"
   ]
  },
  {
   "cell_type": "code",
   "execution_count": 20,
   "id": "71818256",
   "metadata": {},
   "outputs": [],
   "source": [
    "def sub():\n",
    "    a=int(input(\"Enter the num1-\"))\n",
    "    b=int(input(\"Enter the num1-\"))\n",
    "    print(\"sub\",a-b)\n",
    "    with open('calculator.txt',\"a\")as f:\n",
    "        f.write(f\"\\n subtraction of {a} and {b} is {a-b}\\n\")"
   ]
  },
  {
   "cell_type": "code",
   "execution_count": null,
   "id": "d11e5970",
   "metadata": {},
   "outputs": [],
   "source": [
    "def mul():\n",
    "    a=int(input(\"Enter the num1-\"))\n",
    "    b=int(input(\"Enter the num1-\"))\n",
    "    print(\"mul\",a*b)\n",
    "    with open('calculator.txt',\"a\")as f:\n",
    "        f.write(f\"\\n multiplication of {a} and {b} is {a*b}\\n\")"
   ]
  },
  {
   "cell_type": "code",
   "execution_count": 28,
   "id": "f0746945",
   "metadata": {},
   "outputs": [],
   "source": [
    "def div():\n",
    "    a=int(input(\"Enter the num1-\"))\n",
    "    b=int(input(\"Enter the num1-\"))\n",
    "    print(\"div\",a/b)\n",
    "    with open('calculator.txt',\"a\")as f:\n",
    "        f.write(f\"\\n division of {a} and {b} is {a/b}\\n\")"
   ]
  },
  {
   "cell_type": "code",
   "execution_count": 25,
   "id": "3e0ffdc9",
   "metadata": {},
   "outputs": [
    {
     "name": "stdout",
     "output_type": "stream",
     "text": [
      "Enter the num1-6\n",
      "Enter the num1-2\n",
      "sum 8\n",
      "Enter the num1-7\n",
      "Enter the num1-3\n",
      "sub 4\n",
      "Enter the num1-5\n",
      "Enter the num1-4\n",
      "mul 20\n",
      "Enter the num1-9\n",
      "Enter the num1-3\n",
      "div 3.0\n"
     ]
    }
   ],
   "source": [
    "sum()\n",
    "sub()\n",
    "mul()\n",
    "div()"
   ]
  }
 ],
 "metadata": {
  "kernelspec": {
   "display_name": "Python 3 (ipykernel)",
   "language": "python",
   "name": "python3"
  },
  "language_info": {
   "codemirror_mode": {
    "name": "ipython",
    "version": 3
   },
   "file_extension": ".py",
   "mimetype": "text/x-python",
   "name": "python",
   "nbconvert_exporter": "python",
   "pygments_lexer": "ipython3",
   "version": "3.9.12"
  }
 },
 "nbformat": 4,
 "nbformat_minor": 5
}
